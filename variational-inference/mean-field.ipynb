{
 "cells": [
  {
   "attachments": {},
   "cell_type": "markdown",
   "metadata": {},
   "source": [
    "# Mean-Field Approximation\n",
    "\n",
    "Under the mean-field approximation, we assume that the distribution $q(z)$ can be factorized into a product of independent distributions for each variable in $z$. In other words, we assume that all the variables in z are independent of each other. Mathematically, this can be written as:\n",
    "\n",
    "$$q(z)=\\prod_i q\\left(z_i\\right)$$"
   ]
  },
  {
   "cell_type": "code",
   "execution_count": null,
   "metadata": {},
   "outputs": [],
   "source": []
  },
  {
   "cell_type": "code",
   "execution_count": null,
   "metadata": {},
   "outputs": [],
   "source": []
  }
 ],
 "metadata": {
  "language_info": {
   "name": "python"
  },
  "orig_nbformat": 4
 },
 "nbformat": 4,
 "nbformat_minor": 2
}
