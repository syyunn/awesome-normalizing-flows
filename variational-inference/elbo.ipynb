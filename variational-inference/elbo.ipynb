{
 "cells": [
  {
   "attachments": {},
   "cell_type": "markdown",
   "metadata": {},
   "source": [
    "# Variational Inference\n",
    "\n",
    "Variational inference (VI), a method from machine learning that approximates probability densities through optimization. \n",
    "\n",
    "In variational inference, the posterior distribution over a set of unobserved variables $\\mathbf{Z}=\\left\\{Z_1 \\ldots Z_n\\right\\}$ given some data $\\mathbf{X}$ is approximated by a so-called variational distribution, $Q(\\mathbf{Z})$ :\n",
    "$$\n",
    "P(\\mathbf{Z} \\mid \\mathbf{X}) \\approx Q(\\mathbf{Z})\n",
    "$$\n",
    "The distribution $Q(\\mathbf{Z})$ is restricted to belong to a family of distributions of simpler form than $P(\\mathbf{Z} \\mid \\mathbf{X})$ (e.g. a family of Gaussian distributions), selected with the intention of making $Q(\\mathbf{Z})$ similar to the true posterior, $P(\\mathbf{Z} \\mid \\mathbf{X})$."
   ]
  },
  {
   "attachments": {},
   "cell_type": "markdown",
   "metadata": {},
   "source": [
    "# ELBO "
   ]
  },
  {
   "attachments": {},
   "cell_type": "markdown",
   "metadata": {},
   "source": [
    "## Derviation"
   ]
  },
  {
   "cell_type": "code",
   "execution_count": null,
   "metadata": {},
   "outputs": [],
   "source": [
    "variational inference (VI), a method from machine learning that approximates probability densities through optimization.z"
   ]
  }
 ],
 "metadata": {
  "kernelspec": {
   "display_name": "base",
   "language": "python",
   "name": "python3"
  },
  "language_info": {
   "codemirror_mode": {
    "name": "ipython",
    "version": 3
   },
   "file_extension": ".py",
   "mimetype": "text/x-python",
   "name": "python",
   "nbconvert_exporter": "python",
   "pygments_lexer": "ipython3",
   "version": "3.9.13"
  },
  "orig_nbformat": 4
 },
 "nbformat": 4,
 "nbformat_minor": 2
}
